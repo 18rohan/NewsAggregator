{
 "cells": [
  {
   "cell_type": "code",
   "execution_count": 1,
   "metadata": {},
   "outputs": [],
   "source": [
    "from newsapi import NewsApiClient\n",
    "import datetime\n",
    "import pandas as pd\n",
    "\n"
   ]
  },
  {
   "cell_type": "code",
   "execution_count": 2,
   "metadata": {},
   "outputs": [],
   "source": [
    "def get_news():\n",
    "    newsapi = NewsApiClient(api_key =  '0a2c0a1704e541db9a25f0ddb833e853')\n",
    "    data = newsapi.get_top_headlines()\n"
   ]
  },
  {
   "cell_type": "code",
   "execution_count": 4,
   "metadata": {},
   "outputs": [
    {
     "data": {
      "text/plain": [
       "dict_keys(['status', 'totalResults', 'articles'])"
      ]
     },
     "execution_count": 4,
     "metadata": {},
     "output_type": "execute_result"
    }
   ],
   "source": [
    "data.keys()"
   ]
  },
  {
   "cell_type": "code",
   "execution_count": 5,
   "metadata": {},
   "outputs": [
    {
     "data": {
      "text/plain": [
       "'ok'"
      ]
     },
     "execution_count": 5,
     "metadata": {},
     "output_type": "execute_result"
    }
   ],
   "source": [
    "data['status']"
   ]
  },
  {
   "cell_type": "code",
   "execution_count": 6,
   "metadata": {},
   "outputs": [
    {
     "data": {
      "text/plain": [
       "755"
      ]
     },
     "execution_count": 6,
     "metadata": {},
     "output_type": "execute_result"
    }
   ],
   "source": [
    "data['totalResults']"
   ]
  },
  {
   "cell_type": "code",
   "execution_count": 9,
   "metadata": {},
   "outputs": [
    {
     "data": {
      "text/plain": [
       "{'source': {'id': 'business-insider', 'name': 'Business Insider'},\n",
       " 'author': 'Theron Mohamed',\n",
       " 'title': \"'The world is more than 15% screwed up': Billionaire investor Howard Marks warned the recent stock rally doesn't reflect reality\",\n",
       " 'description': \"'The world is more than 15% screwed up': Billionaire investor Howard Marks warned the recent stock rally doesn't reflect reality\",\n",
       " 'url': 'https://markets.businessinsider.com/news/stocks/howard-marks-warns-stock-rally-inappropriately-positive-2020-4-1029111158',\n",
       " 'urlToImage': 'https://images.markets.businessinsider.com/image/5e9eb306a34b3c49864cb524-1737/screen-shot-2015-07-01-at-91856-am.png',\n",
       " 'publishedAt': '2020-04-21T11:57:05Z',\n",
       " 'content': 'Bloomberg TV\\r\\n<ul><li>The recent stock-market rally is \"inappropriately positive,\" Howard Marks told CNBC on Monday.</li><li>\"We\\'re only down 15% from the all-time high of February 19,\" the billionaire investor said about the S&amp;P 500 index. </li><li>\"It s… [+2943 chars]'}"
      ]
     },
     "execution_count": 9,
     "metadata": {},
     "output_type": "execute_result"
    }
   ],
   "source": [
    "data['articles'][0]"
   ]
  },
  {
   "cell_type": "code",
   "execution_count": 17,
   "metadata": {},
   "outputs": [
    {
     "name": "stdout",
     "output_type": "stream",
     "text": [
      "0      'The world is more than 15% screwed up': Billionaire investor Howard Marks warned the recent stock rally doesn't reflect reality\n",
      "1      'The world is more than 15% screwed up': Billionaire investor Howard Marks warned the recent stock rally doesn't reflect reality\n",
      "2      Fitbit's Latest Is Solid, But Seems Made for a Different Time\n",
      "3      'Those scars will never heal': piecing together a gunman's murderous rampage in Nova Scotia | CBC News\n",
      "4      19 Pairs Of Boxers, Briefs, And Boxer-Briefs That Reviewers Totally Support\n",
      "5      What is interesting about Factorio\n",
      "6      ForgeRock nabs $93.5M for its ID management platform, gears up next for an IPO\n",
      "7      Texas Democrats Plan To Mail Registration Forms And Postage To Potential Voters\n",
      "8      The iPad is still an iPad, even with a Magic Keyboard\n",
      "9      Death Stranding PC release date delayed to July\n",
      "10      r/MurderedByWords - It's \"President\" Thank you...\n",
      "11      r/dankmemes - This year has been a little charred\n",
      "12      r/PewdiepieSubmissions - To all the ceiling gang people who say I don't have a pp\n",
      "13      U.S. oil futures plumb historic lows below zero, Brent plunges\n",
      "14      r/Damnthatsinteresting - Found this guy looking for some action on my pool cover, notice the ripples in the water his mating call is creating\n",
      "15      r/gaming - Now THIS is a game I'd buy the hell out of...\n",
      "16      r/WinStupidPrizes - \n",
      "17      r/GetMotivated - [IMAGE] Get rid of negativity around us! Chase your dreams!\n",
      "18      r/pcmasterrace - Built a PC in Blender\n",
      "19      monday.com Project Management Tool\n"
     ]
    }
   ],
   "source": [
    "for y,x in enumerate(data['articles']):\n",
    "    print(f'{y}      {x[\"title\"]}')"
   ]
  },
  {
   "cell_type": "code",
   "execution_count": 25,
   "metadata": {},
   "outputs": [
    {
     "name": "stdout",
     "output_type": "stream",
     "text": [
      "source  ---       {'id': 'business-insider', 'name': 'Business Insider'}\n",
      "author  ---       Theron Mohamed\n",
      "title  ---       'The world is more than 15% screwed up': Billionaire investor Howard Marks warned the recent stock rally doesn't reflect reality\n",
      "description  ---       'The world is more than 15% screwed up': Billionaire investor Howard Marks warned the recent stock rally doesn't reflect reality\n",
      "url  ---       https://markets.businessinsider.com/news/stocks/howard-marks-warns-stock-rally-inappropriately-positive-2020-4-1029111158\n",
      "urlToImage  ---       https://images.markets.businessinsider.com/image/5e9eb306a34b3c49864cb524-1737/screen-shot-2015-07-01-at-91856-am.png\n",
      "publishedAt  ---       2020-04-21T11:57:05Z\n",
      "content  ---       Bloomberg TV\r\n",
      "<ul><li>The recent stock-market rally is \"inappropriately positive,\" Howard Marks told CNBC on Monday.</li><li>\"We're only down 15% from the all-time high of February 19,\" the billionaire investor said about the S&amp;P 500 index. </li><li>\"It s… [+2943 chars]\n"
     ]
    }
   ],
   "source": [
    "for key, value in data['articles'][0].items():\n",
    "    print(f'{key}  ---       {value}')"
   ]
  },
  {
   "cell_type": "markdown",
   "metadata": {},
   "source": [
    "![image](https://images.markets.businessinsider.com/image/5e9eb306a34b3c49864cb524-1737/screen-shot-2015-07-01-at-91856-am.png)"
   ]
  },
  {
   "cell_type": "code",
   "execution_count": null,
   "metadata": {},
   "outputs": [],
   "source": []
  }
 ],
 "metadata": {
  "kernelspec": {
   "display_name": "Python 3",
   "language": "python",
   "name": "python3"
  },
  "language_info": {
   "codemirror_mode": {
    "name": "ipython",
    "version": 3
   },
   "file_extension": ".py",
   "mimetype": "text/x-python",
   "name": "python",
   "nbconvert_exporter": "python",
   "pygments_lexer": "ipython3",
   "version": "3.7.7"
  }
 },
 "nbformat": 4,
 "nbformat_minor": 4
}
