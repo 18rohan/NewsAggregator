{
 "cells": [
  {
   "cell_type": "code",
   "execution_count": 1,
   "metadata": {},
   "outputs": [],
   "source": [
    "from newsapi import NewsApiClient\n",
    "import datetime\n",
    "import pandas as pd\n",
    "\n"
   ]
  },
  {
   "cell_type": "code",
   "execution_count": 51,
   "metadata": {},
   "outputs": [],
   "source": [
    "def get_news():\n",
    "    newsapi = NewsApiClient(api_key =  '0a2c0a1704e541db9a25f0ddb833e853')\n",
    "    data = newsapi.get_top_headlines()\n",
    "    headlines = []\n",
    "    for x in data['articles']:\n",
    "        headlines.append(x[\"title\"])\n",
    "    image_url = []\n",
    "    for x in data['articles']:\n",
    "        image_url.append(x['urlToImage'])\n",
    "    headline_url = []\n",
    "    for j in data['articles']:\n",
    "        headline_url.append(j['url'])\n",
    "    \n",
    "    return headlines, image_url, headline_url\n"
   ]
  },
  {
   "cell_type": "code",
   "execution_count": 52,
   "metadata": {},
   "outputs": [
    {
     "name": "stdout",
     "output_type": "stream",
     "text": [
      "Britain's longest reigning monarch - Queen Elizabeth II through the years\n",
      "'If oil were free it would be good for us': Warren Buffett predicted $0 oil would help consumers but clobber industries\n",
      "'If oil were free it would be good for us': Warren Buffett predicted $0 oil would help consumers but clobber industries\n",
      "Peaky Blinders: Mastermind - Gameplay Reveal - IGN\n",
      "The Iron Mask Review - IGN\n",
      "11 New Earth Day Specials To Watch This Year\n",
      "Monster Hunter World: Iceborne - Title Update Ver. 13.5 Trailer - IGN\n",
      "Stranded Deep - Official Launch Trailer - IGN\n",
      "Sonos Radio is the company's first foray into original content\n",
      "Gov. DeSantis: Florida getting back to work without imposing 'draconian' restrictions\n",
      "15  Facts That Prove That Everything We Know Is A Lie\n",
      "US has extensive contingency plans in case of Kim Jong Un death: sources\n",
      "HBO Max will launch on May 27th\n",
      "Animal Crossing: New Horizons schedule: new mystery island, wedding event\n",
      "Schumer says deal reached in Senate to boost small business loans\n",
      "ACCC to watch Qantas as Virgin fights to survive\n",
      "Coronavirus stories from the frontline: One week in America's battle | TheHill\n",
      "How Virgin fell to earth\n",
      "Richest SMSFs are leveraged to the gills\n",
      "Can Moore herd big names into Virgin rescue?\n"
     ]
    }
   ],
   "source": [
    "headlines, image_url, headline_url = get_news()\n",
    "\n",
    "for i in headlines:\n",
    "    print(i)"
   ]
  },
  {
   "cell_type": "code",
   "execution_count": 53,
   "metadata": {},
   "outputs": [
    {
     "name": "stdout",
     "output_type": "stream",
     "text": [
      "https://cbsnews3.cbsistatic.com/hub/i/r/2016/06/13/0e037167-9868-41b4-b43a-fed056da86fb/thumbnail/1200x630/676d0282775fd57d6419495bedf06d29/gettyimages-539536146.jpg\n",
      "https://images.markets.businessinsider.com/image/5e9ee0bcf242ab57f50ab1d3-2400/rtx9t1a-1.jpg\n",
      "https://images.markets.businessinsider.com/image/5e9ee0bcf242ab57f50ab1d3-2400/rtx9t1a-1.jpg\n",
      "https://assets1.ignimgs.com/thumbs/userUploaded/2020/4/20/peaky-blinders-mastermind-blog-thumb-1587397282286.jpg?width=1280\n",
      "https://assets1.ignimgs.com/2020/04/21/the-iron-mask-1587462259028.jpg?width=1280\n",
      "https://img.buzzfeed.com/buzzfeed-static/static/2020-04/21/11/campaign_images/5d22cf332378/11-new-earth-day-specials-to-watch-this-year-2-4324-1587469401-1_dblbig.jpg\n",
      "https://assets1.ignimgs.com/thumbs/userUploaded/2020/4/14/monhunthumb-1586871396973.jpg?width=1280\n",
      "https://assets1.ignimgs.com/thumbs/userUploaded/2020/4/21/stranded2thumb-1587476615734.jpg?width=1280\n",
      "https://o.aolcdn.com/images/dims?resize=1200%2C630&crop=1200%2C630%2C0%2C0&quality=80&image_uri=https%3A%2F%2Fs.yimg.com%2Fos%2Fcreatr-uploaded-images%2F2020-04%2F0e15aa10-834e-11ea-8fff-cf20b827f15f&client=amp-blogside-v2&signature=565c8932e8355f3eaf12e9a3be7a06764700f310\n",
      "https://cf-images.us-east-1.prod.boltdns.net/v1/static/694940094001/e3392ec0-f0bb-426f-88f6-10982d1a8997/b761549c-c0f5-4270-a27d-94b10848c9b2/1280x720/match/image.jpg\n",
      "https://img.buzzfeed.com/buzzfeed-static/static/2020-04/21/13/campaign_images/278b4587a7fb/15-facts-that-prove-that-everything-we-know-is-a--2-950-1587476577-0_dblbig.jpg\n",
      "https://cf-images.us-east-1.prod.boltdns.net/v1/static/694940094001/879bdddb-873c-489e-a0eb-f949e513431b/9c3c0aca-a5d3-4461-bfb8-ea1314a14369/1280x720/match/image.jpg\n",
      "https://cdn.vox-cdn.com/thumbor/uyaWAMKyvOpfP6CHG4Xrm9QRq08=/0x0:1400x733/fit-in/1200x630/cdn.vox-cdn.com/uploads/chorus_asset/file/19914955/hbo_max.jpeg\n",
      "https://cdn.vox-cdn.com/thumbor/FmlktGRE0JBSQyj5FvotyVUuXAU=/144x0:1657x792/fit-in/1200x630/cdn.vox-cdn.com/uploads/chorus_asset/file/19914925/Screen_Shot_2020_04_21_at_9.33.38_AM.png\n",
      "https://cbsnews2.cbsistatic.com/hub/i/r/2020/04/21/c806f20e-f6b4-4b1b-bc7b-052c8cb31dcd/thumbnail/1200x630g2/99d7e7ac8346fc8cc1d59f595f0e45f5/ap-20077728538428.jpg\n",
      "https://static.ffx.io/images/$zoom_0.2241%2C$multiply_0.7554%2C$ratio_1.777778%2C$width_1059%2C$x_0%2C$y_0/t_crop_custom/e_sharpen:25%2Cq_85%2Cf_auto/d54daa067a63cee9551c8787afe5de791de946f5\n",
      "https://thehill.com/sites/default/files/reidcovidstory_illo_980getty.jpg\n",
      "https://static.ffx.io/images/$zoom_0.1902%2C$multiply_0.7554%2C$ratio_1.777778%2C$width_1059%2C$x_0%2C$y_12/t_crop_custom/e_sharpen:25%2Cq_85%2Cf_auto/2b88ce1bd1552213a0d6944ab297d27abb274f71\n",
      "https://static.ffx.io/images/$zoom_0.8976%2C$multiply_0.7554%2C$ratio_1.777778%2C$width_1059%2C$x_0%2C$y_95/t_crop_custom/e_sharpen:25%2Cq_85%2Cf_auto/74ca458e3d8815e252b70c5cac852b80f6fd8caf\n",
      "https://static.ffx.io/images/$zoom_0.5978%2C$multiply_0.7554%2C$ratio_1.777778%2C$width_1059%2C$x_0%2C$y_126/t_crop_custom/e_sharpen:25%2Cq_85%2Cf_auto/b07d654dbe88dbbd00ad18116bb30a66c2e86364\n"
     ]
    }
   ],
   "source": [
    "for j in image_url:\n",
    "    print(j)"
   ]
  },
  {
   "cell_type": "code",
   "execution_count": 55,
   "metadata": {},
   "outputs": [
    {
     "name": "stdout",
     "output_type": "stream",
     "text": [
      "https://www.cbsnews.com/pictures/royal-life-queen-elizabeth-ii-through-the-years/\n",
      "https://markets.businessinsider.com/news/stocks/warren-buffett-oil-free-would-be-good-for-us-consumers-2020-4-1029112729\n",
      "https://markets.businessinsider.com/news/stocks/warren-buffett-oil-free-would-be-good-for-us-consumers-2020-4-1029112729\n",
      "https://www.ign.com/videos/peaky-blinders-mastermind-gameplay-reveal\n",
      "https://www.ign.com/articles/the-iron-mask-review-journey-to-china-the-mystery-of-iron-mask\n",
      "https://www.buzzfeed.com/whitneyjefferson/new-earth-day-specials-movies-tv-in-2020\n",
      "https://www.ign.com/videos/monster-hunter-world-iceborne-title-update-ver-135-trailer\n",
      "https://www.ign.com/videos/stranded-deep-official-launch-trailer\n",
      "https://www.engadget.com/sonos-radio-streaming-service-130003021.html?utm_campaign=homepage&amp;utm_medium=internal&amp;utm_source=dl\n",
      "https://video.foxnews.com/v/6151023484001/\n",
      "https://www.buzzfeed.com/hanifahrahman/common-misconceptions\n",
      "https://www.foxnews.com/politics/us-has-extensive-contingency-plans-kim-jong-un-death-sources\n",
      "https://www.theverge.com/2020/4/21/21229362/hbo-max-launch-date-warnermedia-now-go-peacock-quibi-price\n",
      "https://www.polygon.com/2020/4/21/21229338/animal-crossing-new-horizons-acnh-wedding-mystery-island-june-may-reese-cyrus-rover-events-switch\n",
      "https://www.cbsnews.com/news/paycheck-protection-program-senate-vote-coronavirus/\n",
      "http://www.afr.com/politics/federal/accc-to-watch-qantas-as-virgin-fights-to-survive-20200421-p54lne\n",
      "http://thehill.com/policy/healthcare/493787-coronavirus-stories-from-the-frontline-one-week-in-americas-battle\n",
      "http://www.afr.com/companies/transport/how-virgin-fell-to-earth-20200421-p54lui\n",
      "http://www.afr.com/companies/financial-services/richest-smsfs-are-leveraged-to-the-gills-20200421-p54lrg\n",
      "http://www.afr.com/chanticleer/can-moore-herd-big-names-into-virgin-rescue-20200421-p54lum\n"
     ]
    }
   ],
   "source": [
    "for k in headline_url:\n",
    "    print(k)"
   ]
  },
  {
   "cell_type": "code",
   "execution_count": 39,
   "metadata": {},
   "outputs": [
    {
     "data": {
      "text/plain": [
       "dict_keys(['status', 'totalResults', 'articles'])"
      ]
     },
     "execution_count": 39,
     "metadata": {},
     "output_type": "execute_result"
    }
   ],
   "source": [
    "data.keys()"
   ]
  },
  {
   "cell_type": "code",
   "execution_count": 5,
   "metadata": {},
   "outputs": [
    {
     "data": {
      "text/plain": [
       "'ok'"
      ]
     },
     "execution_count": 5,
     "metadata": {},
     "output_type": "execute_result"
    }
   ],
   "source": [
    "data['status']"
   ]
  },
  {
   "cell_type": "code",
   "execution_count": 6,
   "metadata": {},
   "outputs": [
    {
     "data": {
      "text/plain": [
       "755"
      ]
     },
     "execution_count": 6,
     "metadata": {},
     "output_type": "execute_result"
    }
   ],
   "source": [
    "data['totalResults']"
   ]
  },
  {
   "cell_type": "code",
   "execution_count": 9,
   "metadata": {},
   "outputs": [
    {
     "data": {
      "text/plain": [
       "{'source': {'id': 'business-insider', 'name': 'Business Insider'},\n",
       " 'author': 'Theron Mohamed',\n",
       " 'title': \"'The world is more than 15% screwed up': Billionaire investor Howard Marks warned the recent stock rally doesn't reflect reality\",\n",
       " 'description': \"'The world is more than 15% screwed up': Billionaire investor Howard Marks warned the recent stock rally doesn't reflect reality\",\n",
       " 'url': 'https://markets.businessinsider.com/news/stocks/howard-marks-warns-stock-rally-inappropriately-positive-2020-4-1029111158',\n",
       " 'urlToImage': 'https://images.markets.businessinsider.com/image/5e9eb306a34b3c49864cb524-1737/screen-shot-2015-07-01-at-91856-am.png',\n",
       " 'publishedAt': '2020-04-21T11:57:05Z',\n",
       " 'content': 'Bloomberg TV\\r\\n<ul><li>The recent stock-market rally is \"inappropriately positive,\" Howard Marks told CNBC on Monday.</li><li>\"We\\'re only down 15% from the all-time high of February 19,\" the billionaire investor said about the S&amp;P 500 index. </li><li>\"It s… [+2943 chars]'}"
      ]
     },
     "execution_count": 9,
     "metadata": {},
     "output_type": "execute_result"
    }
   ],
   "source": [
    "data['articles'][0]"
   ]
  },
  {
   "cell_type": "code",
   "execution_count": 17,
   "metadata": {},
   "outputs": [
    {
     "name": "stdout",
     "output_type": "stream",
     "text": [
      "0      'The world is more than 15% screwed up': Billionaire investor Howard Marks warned the recent stock rally doesn't reflect reality\n",
      "1      'The world is more than 15% screwed up': Billionaire investor Howard Marks warned the recent stock rally doesn't reflect reality\n",
      "2      Fitbit's Latest Is Solid, But Seems Made for a Different Time\n",
      "3      'Those scars will never heal': piecing together a gunman's murderous rampage in Nova Scotia | CBC News\n",
      "4      19 Pairs Of Boxers, Briefs, And Boxer-Briefs That Reviewers Totally Support\n",
      "5      What is interesting about Factorio\n",
      "6      ForgeRock nabs $93.5M for its ID management platform, gears up next for an IPO\n",
      "7      Texas Democrats Plan To Mail Registration Forms And Postage To Potential Voters\n",
      "8      The iPad is still an iPad, even with a Magic Keyboard\n",
      "9      Death Stranding PC release date delayed to July\n",
      "10      r/MurderedByWords - It's \"President\" Thank you...\n",
      "11      r/dankmemes - This year has been a little charred\n",
      "12      r/PewdiepieSubmissions - To all the ceiling gang people who say I don't have a pp\n",
      "13      U.S. oil futures plumb historic lows below zero, Brent plunges\n",
      "14      r/Damnthatsinteresting - Found this guy looking for some action on my pool cover, notice the ripples in the water his mating call is creating\n",
      "15      r/gaming - Now THIS is a game I'd buy the hell out of...\n",
      "16      r/WinStupidPrizes - \n",
      "17      r/GetMotivated - [IMAGE] Get rid of negativity around us! Chase your dreams!\n",
      "18      r/pcmasterrace - Built a PC in Blender\n",
      "19      monday.com Project Management Tool\n"
     ]
    }
   ],
   "source": [
    "for y,x in enumerate(data['articles']):\n",
    "    print(f'{y}      {x[\"title\"]}')"
   ]
  },
  {
   "cell_type": "code",
   "execution_count": 25,
   "metadata": {},
   "outputs": [
    {
     "name": "stdout",
     "output_type": "stream",
     "text": [
      "source  ---       {'id': 'business-insider', 'name': 'Business Insider'}\n",
      "author  ---       Theron Mohamed\n",
      "title  ---       'The world is more than 15% screwed up': Billionaire investor Howard Marks warned the recent stock rally doesn't reflect reality\n",
      "description  ---       'The world is more than 15% screwed up': Billionaire investor Howard Marks warned the recent stock rally doesn't reflect reality\n",
      "url  ---       https://markets.businessinsider.com/news/stocks/howard-marks-warns-stock-rally-inappropriately-positive-2020-4-1029111158\n",
      "urlToImage  ---       https://images.markets.businessinsider.com/image/5e9eb306a34b3c49864cb524-1737/screen-shot-2015-07-01-at-91856-am.png\n",
      "publishedAt  ---       2020-04-21T11:57:05Z\n",
      "content  ---       Bloomberg TV\r\n",
      "<ul><li>The recent stock-market rally is \"inappropriately positive,\" Howard Marks told CNBC on Monday.</li><li>\"We're only down 15% from the all-time high of February 19,\" the billionaire investor said about the S&amp;P 500 index. </li><li>\"It s… [+2943 chars]\n"
     ]
    }
   ],
   "source": [
    "for key, value in data['articles'][0].items():\n",
    "    print(f'{key}  ---       {value}')"
   ]
  },
  {
   "cell_type": "markdown",
   "metadata": {},
   "source": [
    "![image](https://images.markets.businessinsider.com/image/5e9eb306a34b3c49864cb524-1737/screen-shot-2015-07-01-at-91856-am.png)"
   ]
  },
  {
   "cell_type": "code",
   "execution_count": null,
   "metadata": {},
   "outputs": [],
   "source": []
  }
 ],
 "metadata": {
  "kernelspec": {
   "display_name": "Python 3",
   "language": "python",
   "name": "python3"
  },
  "language_info": {
   "codemirror_mode": {
    "name": "ipython",
    "version": 3
   },
   "file_extension": ".py",
   "mimetype": "text/x-python",
   "name": "python",
   "nbconvert_exporter": "python",
   "pygments_lexer": "ipython3",
   "version": "3.7.7"
  }
 },
 "nbformat": 4,
 "nbformat_minor": 4
}
